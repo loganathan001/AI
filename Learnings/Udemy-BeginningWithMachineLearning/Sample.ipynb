{
 "cells": [
  {
   "cell_type": "code",
   "execution_count": 8,
   "metadata": {},
   "outputs": [
    {
     "name": "stdout",
     "output_type": "stream",
     "text": [
      "total 548\r\n",
      "-rw-rw-r-- 1 loganathan001 loganathan001   8389 Oct  6 16:22 'A quick tour of IPython Notebook.ipynb'\r\n",
      "-rw-r--r-- 1 loganathan001 loganathan001 544540 Nov 15  2017 'Chapter 1 - Reading from a CSV.ipynb'\r\n",
      "-rw-rw-r-- 1 loganathan001 loganathan001    567 Oct  6 16:28  Sample.ipynb\r\n"
     ]
    }
   ],
   "source": [
    "!ls -l"
   ]
  }
 ],
 "metadata": {
  "kernelspec": {
   "display_name": "Python 3",
   "language": "python",
   "name": "python3"
  },
  "language_info": {
   "codemirror_mode": {
    "name": "ipython",
    "version": 3
   },
   "file_extension": ".py",
   "mimetype": "text/x-python",
   "name": "python",
   "nbconvert_exporter": "python",
   "pygments_lexer": "ipython3",
   "version": "3.6.8"
  }
 },
 "nbformat": 4,
 "nbformat_minor": 2
}
