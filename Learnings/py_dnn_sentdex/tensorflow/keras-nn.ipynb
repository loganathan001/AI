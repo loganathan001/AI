{
 "cells": [
  {
   "cell_type": "code",
   "execution_count": 1,
   "metadata": {},
   "outputs": [
    {
     "name": "stderr",
     "output_type": "stream",
     "text": [
      "Using TensorFlow backend.\n"
     ]
    },
    {
     "data": {
      "text/plain": [
       "(-0.05, 1.05, -0.05, 1.05)"
      ]
     },
     "execution_count": 1,
     "metadata": {},
     "output_type": "execute_result"
    },
    {
     "data": {
      "image/png": "[encoded data removed]",
      "text/plain": [
       "<Figure size 600x400 with 1 Axes>"
      ]
     },
     "metadata": {
      "image/png": {
       "height": 345,
       "width": 516
      },
      "needs_background": "light"
     },
     "output_type": "display_data"
    }
   ],
   "source": [
    "import numpy as np\n",
    "import keras\n",
    "from keras.datasets import mnist\n",
    "from keras.models import Sequential\n",
    "from keras.layers import Dense, Dropout, Activation\n",
    "from keras.optimizers import SGD, Adam, RMSprop\n",
    "from keras.utils import np_utils\n",
    "\n",
    "import matplotlib.pyplot as plt\n",
    "%matplotlib inline\n",
    "from IPython.display import set_matplotlib_formats\n",
    "set_matplotlib_formats('retina')\n",
    "\n",
    "\n",
    "plt.rcParams['figure.dpi'] = 100\n",
    "plt.ion()\n",
    "plt.axis('equal')\n"
   ]
  },
  {
   "cell_type": "code",
   "execution_count": 55,
   "metadata": {},
   "outputs": [
    {
     "name": "stdout",
     "output_type": "stream",
     "text": [
      "(60000, 28, 28)\n",
      "(50000, 28, 28)\n",
      "(10000, 28, 28)\n"
     ]
    }
   ],
   "source": [
    "from sklearn.model_selection import train_test_split\n",
    "(x_train, y_train), (x_test, y_test) = mnist.load_data()\n",
    "print(x_train.shape)\n",
    "x_train, x_validation, y_train, y_validation = train_test_split(x_train, y_train, train_size=50000, test_size=10000)\n",
    "print(x_train.shape)\n",
    "print(x_validation.shape)\n"
   ]
  },
  {
   "cell_type": "code",
   "execution_count": 56,
   "metadata": {},
   "outputs": [],
   "source": [
    "batch_size = 128\n",
    "num_classes = 10\n",
    "epochs = 20"
   ]
  },
  {
   "cell_type": "code",
   "execution_count": 58,
   "metadata": {},
   "outputs": [
    {
     "name": "stdout",
     "output_type": "stream",
     "text": [
      "(50000, 784) train samples\n",
      "(10000, 784) test samples\n",
      "(10000, 784) validation samples\n"
     ]
    }
   ],
   "source": [
    "x_train = x_train.reshape(50000, 784)\n",
    "x_test = x_test.reshape(10000, 784)\n",
    "x_validation = x_validation.reshape(10000, 784)\n",
    "x_train = x_train.astype('float32')\n",
    "x_test = x_test.astype('float32')\n",
    "x_validation = x_validation.astype('float32')\n",
    "\n",
    "x_train /= 255\n",
    "x_test /= 255\n",
    "x_validation /= 255\n",
    "print(x_train.shape, 'train samples')\n",
    "print(x_test.shape, 'test samples')\n",
    "print(x_validation.shape, 'validation samples')\n",
    "\n",
    "\n",
    "# convert class vectors to binary class matrices\n",
    "y_train = keras.utils.to_categorical(y_train, num_classes)\n",
    "y_test = keras.utils.to_categorical(y_test, num_classes)\n",
    "y_validation = keras.utils.to_categorical(y_validation, num_classes)\n",
    "\n"
   ]
  },
  {
   "cell_type": "code",
   "execution_count": 73,
   "metadata": {},
   "outputs": [
    {
     "name": "stdout",
     "output_type": "stream",
     "text": [
      "CPU times: user 21.2 ms, sys: 32 µs, total: 21.2 ms\n",
      "Wall time: 21.3 ms\n"
     ]
    }
   ],
   "source": [
    "model = Sequential()\n",
    "model.add(Dense(128, input_shape=(784,)))\n",
    "model.add(Activation('relu'))\n",
    "model.add(Dense(10))\n",
    "model.add(Activation('softmax'))\n",
    "\n",
    "optimizer = SGD()\n",
    "%time model.compile(loss='categorical_crossentropy',optimizer=optimizer, metrics=['accuracy'])\n",
    "\n"
   ]
  },
  {
   "cell_type": "code",
   "execution_count": 64,
   "metadata": {},
   "outputs": [
    {
     "name": "stdout",
     "output_type": "stream",
     "text": [
      "Train on 50000 samples, validate on 10000 samples\n",
      "Epoch 1/20\n",
      "50000/50000 [==============================] - 2s 36us/step - loss: 1.3473 - acc: 0.6681 - val_loss: 0.7737 - val_acc: 0.8220\n",
      "Epoch 2/20\n",
      "50000/50000 [==============================] - 1s 28us/step - loss: 0.6283 - acc: 0.8489 - val_loss: 0.5302 - val_acc: 0.8642\n",
      "Epoch 3/20\n",
      "50000/50000 [==============================] - 1s 27us/step - loss: 0.4829 - acc: 0.8745 - val_loss: 0.4471 - val_acc: 0.8812\n",
      "Epoch 4/20\n",
      "50000/50000 [==============================] - 1s 27us/step - loss: 0.4206 - acc: 0.8872 - val_loss: 0.4039 - val_acc: 0.8913\n",
      "Epoch 5/20\n",
      "50000/50000 [==============================] - 1s 28us/step - loss: 0.3846 - acc: 0.8947 - val_loss: 0.3770 - val_acc: 0.8981\n",
      "Epoch 6/20\n",
      "50000/50000 [==============================] - 1s 28us/step - loss: 0.3605 - acc: 0.8999 - val_loss: 0.3579 - val_acc: 0.9031\n",
      "Epoch 7/20\n",
      "50000/50000 [==============================] - 1s 28us/step - loss: 0.3426 - acc: 0.9044 - val_loss: 0.3436 - val_acc: 0.9070\n",
      "Epoch 8/20\n",
      "50000/50000 [==============================] - 1s 28us/step - loss: 0.3283 - acc: 0.9076 - val_loss: 0.3316 - val_acc: 0.9102\n",
      "Epoch 9/20\n",
      "50000/50000 [==============================] - 1s 28us/step - loss: 0.3164 - acc: 0.9111 - val_loss: 0.3217 - val_acc: 0.9129\n",
      "Epoch 10/20\n",
      "50000/50000 [==============================] - 1s 27us/step - loss: 0.3062 - acc: 0.9136 - val_loss: 0.3132 - val_acc: 0.9137\n",
      "Epoch 11/20\n",
      "50000/50000 [==============================] - 1s 27us/step - loss: 0.2971 - acc: 0.9163 - val_loss: 0.3060 - val_acc: 0.9166\n",
      "Epoch 12/20\n",
      "50000/50000 [==============================] - 1s 26us/step - loss: 0.2891 - acc: 0.9185 - val_loss: 0.2986 - val_acc: 0.9186\n",
      "Epoch 13/20\n",
      "50000/50000 [==============================] - 1s 28us/step - loss: 0.2816 - acc: 0.9208 - val_loss: 0.2923 - val_acc: 0.9200\n",
      "Epoch 14/20\n",
      "50000/50000 [==============================] - 1s 27us/step - loss: 0.2747 - acc: 0.9233 - val_loss: 0.2863 - val_acc: 0.9213\n",
      "Epoch 15/20\n",
      "50000/50000 [==============================] - 1s 29us/step - loss: 0.2684 - acc: 0.9250 - val_loss: 0.2805 - val_acc: 0.9232\n",
      "Epoch 16/20\n",
      "50000/50000 [==============================] - 1s 28us/step - loss: 0.2625 - acc: 0.9264 - val_loss: 0.2755 - val_acc: 0.9241\n",
      "Epoch 17/20\n",
      "50000/50000 [==============================] - 1s 28us/step - loss: 0.2566 - acc: 0.9282 - val_loss: 0.2700 - val_acc: 0.9249\n",
      "Epoch 18/20\n",
      "50000/50000 [==============================] - 1s 28us/step - loss: 0.2514 - acc: 0.9299 - val_loss: 0.2660 - val_acc: 0.9256\n",
      "Epoch 19/20\n",
      "50000/50000 [==============================] - 1s 29us/step - loss: 0.2464 - acc: 0.9315 - val_loss: 0.2616 - val_acc: 0.9268\n",
      "Epoch 20/20\n",
      "50000/50000 [==============================] - 1s 29us/step - loss: 0.2416 - acc: 0.9329 - val_loss: 0.2569 - val_acc: 0.9281\n"
     ]
    }
   ],
   "source": [
    "h = model.fit(x_train, y_train, batch_size=batch_size, epochs=epochs, verbose=1, validation_data=(x_validation, y_validation))"
   ]
  },
  {
   "cell_type": "code",
   "execution_count": 65,
   "metadata": {},
   "outputs": [
    {
     "name": "stdout",
     "output_type": "stream",
     "text": [
      "_________________________________________________________________\n",
      "Layer (type)                 Output Shape              Param #   \n",
      "=================================================================\n",
      "dense_15 (Dense)             (None, 128)               100480    \n",
      "_________________________________________________________________\n",
      "activation_15 (Activation)   (None, 128)               0         \n",
      "_________________________________________________________________\n",
      "dense_16 (Dense)             (None, 10)                1290      \n",
      "_________________________________________________________________\n",
      "activation_16 (Activation)   (None, 10)                0         \n",
      "=================================================================\n",
      "Total params: 101,770\n",
      "Trainable params: 101,770\n",
      "Non-trainable params: 0\n",
      "_________________________________________________________________\n"
     ]
    }
   ],
   "source": [
    "model.summary()"
   ]
  },
  {
   "cell_type": "code",
   "execution_count": 68,
   "metadata": {},
   "outputs": [],
   "source": [
    "model.save_weights(\"kera-mnist.model\")"
   ]
  },
  {
   "cell_type": "code",
   "execution_count": 72,
   "metadata": {},
   "outputs": [],
   "source": [
    "del(model)"
   ]
  },
  {
   "cell_type": "code",
   "execution_count": 74,
   "metadata": {},
   "outputs": [],
   "source": [
    "model.load_weights(\"kera-mnist.model\")"
   ]
  },
  {
   "cell_type": "code",
   "execution_count": 76,
   "metadata": {},
   "outputs": [
    {
     "data": {
      "text/plain": [
       "{'val_loss': [0.7737270311355591,\n",
       "  0.5301823482513428,\n",
       "  0.4471431276321411,\n",
       "  0.40394588050842284,\n",
       "  0.37700388765335086,\n",
       "  0.35793765964508056,\n",
       "  0.34358514862060546,\n",
       "  0.3316106972694397,\n",
       "  0.3216798786640167,\n",
       "  0.3131615466117859,\n",
       "  0.3060393949508667,\n",
       "  0.29857774686813354,\n",
       "  0.29231777696609496,\n",
       "  0.2863374164104462,\n",
       "  0.28050107707977295,\n",
       "  0.27550745000839233,\n",
       "  0.27000956134796145,\n",
       "  0.26598679094314576,\n",
       "  0.26158219895362855,\n",
       "  0.2569021275997162],\n",
       " 'val_acc': [0.822,\n",
       "  0.8642,\n",
       "  0.8812,\n",
       "  0.8913,\n",
       "  0.8981,\n",
       "  0.9031,\n",
       "  0.907,\n",
       "  0.9102,\n",
       "  0.9129,\n",
       "  0.9137,\n",
       "  0.9166,\n",
       "  0.9186,\n",
       "  0.92,\n",
       "  0.9213,\n",
       "  0.9232,\n",
       "  0.9241,\n",
       "  0.9249,\n",
       "  0.9256,\n",
       "  0.9268,\n",
       "  0.9281],\n",
       " 'loss': [1.3472543181991576,\n",
       "  0.6282803330230713,\n",
       "  0.48292519258499145,\n",
       "  0.42060249113082887,\n",
       "  0.38455409435272214,\n",
       "  0.3604633828163147,\n",
       "  0.34255595325469973,\n",
       "  0.3282888368415833,\n",
       "  0.31637850059509276,\n",
       "  0.3062221389389038,\n",
       "  0.29710700233459475,\n",
       "  0.2890894907808304,\n",
       "  0.2816006118488312,\n",
       "  0.27470294596672057,\n",
       "  0.26840690098285674,\n",
       "  0.26246127071142195,\n",
       "  0.25659304481506345,\n",
       "  0.25144221562862396,\n",
       "  0.24640405714035035,\n",
       "  0.24162198927879333],\n",
       " 'acc': [0.66808,\n",
       "  0.84886,\n",
       "  0.8744600000190735,\n",
       "  0.887159999961853,\n",
       "  0.89466,\n",
       "  0.8999400000190735,\n",
       "  0.90436,\n",
       "  0.9076,\n",
       "  0.911060000038147,\n",
       "  0.9135999999809266,\n",
       "  0.9163399999809265,\n",
       "  0.9185400000190734,\n",
       "  0.9208200000190735,\n",
       "  0.9232999999618531,\n",
       "  0.9249599999809265,\n",
       "  0.9264400000190735,\n",
       "  0.9281800000190735,\n",
       "  0.929920000038147,\n",
       "  0.9314999999618531,\n",
       "  0.9328600000190734]}"
      ]
     },
     "execution_count": 76,
     "metadata": {},
     "output_type": "execute_result"
    }
   ],
   "source": [
    "h.history"
   ]
  },
  {
   "cell_type": "code",
   "execution_count": 75,
   "metadata": {},
   "outputs": [
    {
     "name": "stdout",
     "output_type": "stream",
     "text": [
      "Test loss: 0.23671838354617358\n",
      "Test accuracy: 0.9338\n"
     ]
    }
   ],
   "source": [
    "score = model.evaluate(x_test, y_test, verbose=0)\n",
    "print('Test loss:', score[0])\n",
    "print('Test accuracy:', score[1])"
   ]
  },
  {
   "cell_type": "code",
   "execution_count": 77,
   "metadata": {},
   "outputs": [
    {
     "data": {
      "image/svg+xml": [
       "<svg height=\"337pt\" viewBox=\"0.00 0.00 204.00 337.00\" width=\"204pt\" xmlns=\"http://www.w3.org/2000/svg\" xmlns:xlink=\"http://www.w3.org/1999/xlink\">\n",
       "<g class=\"graph\" id=\"graph0\" transform=\"scale(1 1) rotate(0) translate(4 333)\">\n",
       "<title>G</title>\n",
       "<polygon fill=\"#ffffff\" points=\"-4,4 -4,-333 200,-333 200,4 -4,4\" stroke=\"transparent\"/>\n",
       "<!-- 140310526279184 -->\n",
       "<g class=\"node\" id=\"node1\">\n",
       "<title>140310526279184</title>\n",
       "<polygon fill=\"none\" points=\"29.5,-219.5 29.5,-255.5 166.5,-255.5 166.5,-219.5 29.5,-219.5\" stroke=\"#000000\"/>\n",
       "<text fill=\"#000000\" font-family=\"Times,serif\" font-size=\"14.00\" text-anchor=\"middle\" x=\"98\" y=\"-233.8\">dense_19: Dense</text>\n",
       "</g>\n",
       "<!-- 140310526278512 -->\n",
       "<g class=\"node\" id=\"node2\">\n",
       "<title>140310526278512</title>\n",
       "<polygon fill=\"none\" points=\"0,-146.5 0,-182.5 196,-182.5 196,-146.5 0,-146.5\" stroke=\"#000000\"/>\n",
       "<text fill=\"#000000\" font-family=\"Times,serif\" font-size=\"14.00\" text-anchor=\"middle\" x=\"98\" y=\"-160.8\">activation_19: Activation</text>\n",
       "</g>\n",
       "<!-- 140310526279184&#45;&gt;140310526278512 -->\n",
       "<g class=\"edge\" id=\"edge2\">\n",
       "<title>140310526279184-&gt;140310526278512</title>\n",
       "<path d=\"M98,-219.4551C98,-211.3828 98,-201.6764 98,-192.6817\" fill=\"none\" stroke=\"#000000\"/>\n",
       "<polygon fill=\"#000000\" points=\"101.5001,-192.5903 98,-182.5904 94.5001,-192.5904 101.5001,-192.5903\" stroke=\"#000000\"/>\n",
       "</g>\n",
       "<!-- 140310526279296 -->\n",
       "<g class=\"node\" id=\"node3\">\n",
       "<title>140310526279296</title>\n",
       "<polygon fill=\"none\" points=\"29.5,-73.5 29.5,-109.5 166.5,-109.5 166.5,-73.5 29.5,-73.5\" stroke=\"#000000\"/>\n",
       "<text fill=\"#000000\" font-family=\"Times,serif\" font-size=\"14.00\" text-anchor=\"middle\" x=\"98\" y=\"-87.8\">dense_20: Dense</text>\n",
       "</g>\n",
       "<!-- 140310526278512&#45;&gt;140310526279296 -->\n",
       "<g class=\"edge\" id=\"edge3\">\n",
       "<title>140310526278512-&gt;140310526279296</title>\n",
       "<path d=\"M98,-146.4551C98,-138.3828 98,-128.6764 98,-119.6817\" fill=\"none\" stroke=\"#000000\"/>\n",
       "<polygon fill=\"#000000\" points=\"101.5001,-119.5903 98,-109.5904 94.5001,-119.5904 101.5001,-119.5903\" stroke=\"#000000\"/>\n",
       "</g>\n",
       "<!-- 140310526276048 -->\n",
       "<g class=\"node\" id=\"node4\">\n",
       "<title>140310526276048</title>\n",
       "<polygon fill=\"none\" points=\"0,-.5 0,-36.5 196,-36.5 196,-.5 0,-.5\" stroke=\"#000000\"/>\n",
       "<text fill=\"#000000\" font-family=\"Times,serif\" font-size=\"14.00\" text-anchor=\"middle\" x=\"98\" y=\"-14.8\">activation_20: Activation</text>\n",
       "</g>\n",
       "<!-- 140310526279296&#45;&gt;140310526276048 -->\n",
       "<g class=\"edge\" id=\"edge4\">\n",
       "<title>140310526279296-&gt;140310526276048</title>\n",
       "<path d=\"M98,-73.4551C98,-65.3828 98,-55.6764 98,-46.6817\" fill=\"none\" stroke=\"#000000\"/>\n",
       "<polygon fill=\"#000000\" points=\"101.5001,-46.5903 98,-36.5904 94.5001,-46.5904 101.5001,-46.5903\" stroke=\"#000000\"/>\n",
       "</g>\n",
       "<!-- 140310526279072 -->\n",
       "<g class=\"node\" id=\"node5\">\n",
       "<title>140310526279072</title>\n",
       "<polygon fill=\"none\" points=\"22,-292.5 22,-328.5 174,-328.5 174,-292.5 22,-292.5\" stroke=\"#000000\"/>\n",
       "<text fill=\"#000000\" font-family=\"Times,serif\" font-size=\"14.00\" text-anchor=\"middle\" x=\"98\" y=\"-306.8\">140310526279072</text>\n",
       "</g>\n",
       "<!-- 140310526279072&#45;&gt;140310526279184 -->\n",
       "<g class=\"edge\" id=\"edge1\">\n",
       "<title>140310526279072-&gt;140310526279184</title>\n",
       "<path d=\"M98,-292.4551C98,-284.3828 98,-274.6764 98,-265.6817\" fill=\"none\" stroke=\"#000000\"/>\n",
       "<polygon fill=\"#000000\" points=\"101.5001,-265.5903 98,-255.5904 94.5001,-265.5904 101.5001,-265.5903\" stroke=\"#000000\"/>\n",
       "</g>\n",
       "</g>\n",
       "</svg>"
      ],
      "text/plain": [
       "<IPython.core.display.SVG object>"
      ]
     },
     "execution_count": 77,
     "metadata": {},
     "output_type": "execute_result"
    }
   ],
   "source": [
    "from IPython.display import SVG\n",
    "from keras.utils.vis_utils import model_to_dot\n",
    "\n",
    "SVG(model_to_dot(model).create(prog='dot', format='svg'))"
   ]
  },
  {
   "cell_type": "code",
   "execution_count": null,
   "metadata": {},
   "outputs": [],
   "source": [
    "plt.axis('equal')\n",
    "plt.pcolor(np.reshape(x_train[5], [28, 28]))"
   ]
  }
 ],
 "metadata": {
  "kernelspec": {
   "display_name": "Python 3",
   "language": "python",
   "name": "python3"
  }
 },
 "nbformat": 4,
 "nbformat_minor": 2
}
